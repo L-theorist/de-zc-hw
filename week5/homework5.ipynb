{
 "cells": [
  {
   "cell_type": "code",
   "execution_count": 1,
   "id": "8ef83e89",
   "metadata": {},
   "outputs": [],
   "source": [
    "import pyspark\n",
    "import pandas as pd"
   ]
  },
  {
   "cell_type": "code",
   "execution_count": 2,
   "id": "1c786ca4",
   "metadata": {},
   "outputs": [],
   "source": [
    "from pyspark.sql import SparkSession\n",
    "from pyspark.sql import types\n",
    "from pyspark.sql.functions import *"
   ]
  },
  {
   "cell_type": "code",
   "execution_count": 3,
   "id": "e98b822e",
   "metadata": {
    "scrolled": true
   },
   "outputs": [
    {
     "name": "stderr",
     "output_type": "stream",
     "text": [
      "WARNING: An illegal reflective access operation has occurred\n",
      "WARNING: Illegal reflective access by org.apache.spark.unsafe.Platform (file:/home/onegin/spark/spark-3.0.3-bin-hadoop3.2/jars/spark-unsafe_2.12-3.0.3.jar) to constructor java.nio.DirectByteBuffer(long,int)\n",
      "WARNING: Please consider reporting this to the maintainers of org.apache.spark.unsafe.Platform\n",
      "WARNING: Use --illegal-access=warn to enable warnings of further illegal reflective access operations\n",
      "WARNING: All illegal access operations will be denied in a future release\n",
      "22/03/07 14:40:00 WARN NativeCodeLoader: Unable to load native-hadoop library for your platform... using builtin-java classes where applicable\n",
      "Using Spark's default log4j profile: org/apache/spark/log4j-defaults.properties\n",
      "Setting default log level to \"WARN\".\n",
      "To adjust logging level use sc.setLogLevel(newLevel). For SparkR, use setLogLevel(newLevel).\n"
     ]
    }
   ],
   "source": [
    "spark = SparkSession.builder \\\n",
    "    .master(\"local[*]\") \\\n",
    "    .appName('homework_5') \\\n",
    "    .getOrCreate()\n"
   ]
  },
  {
   "cell_type": "code",
   "execution_count": 4,
   "id": "375a42c9",
   "metadata": {},
   "outputs": [
    {
     "data": {
      "text/plain": [
       "'3.0.3'"
      ]
     },
     "execution_count": 4,
     "metadata": {},
     "output_type": "execute_result"
    }
   ],
   "source": [
    "#Question 1\n",
    "spark.version"
   ]
  },
  {
   "cell_type": "code",
   "execution_count": 5,
   "id": "0e97cb37",
   "metadata": {},
   "outputs": [
    {
     "name": "stderr",
     "output_type": "stream",
     "text": [
      "\r",
      "[Stage 0:>                                                          (0 + 1) / 1]\r",
      "\r",
      "                                                                                \r"
     ]
    }
   ],
   "source": [
    "df = spark.read \\\n",
    "    .option(\"header\", \"true\") \\\n",
    "    .csv('fhvhv_tripdata_2021-02.csv')"
   ]
  },
  {
   "cell_type": "code",
   "execution_count": 6,
   "id": "0b263ffb",
   "metadata": {},
   "outputs": [],
   "source": [
    "fhvhv_schema = types.StructType([\n",
    "    types.StructField(\"hvfhs_license_num\", types.StringType(),True),\n",
    "    types.StructField(\"dispatching_base_num\", types.StringType(),True),\n",
    "    types.StructField(\"pickup_datetime\", types.TimestampType(),True),\n",
    "    types.StructField(\"dropoff_datetime\", types.TimestampType(),True),\n",
    "    types.StructField(\"PULocationID\", types.IntegerType(),True),\n",
    "    types.StructField(\"DOLocationID\", types.IntegerType(),True),\n",
    "    types.StructField(\"SR_Flag\", types.StringType(),True)])"
   ]
  },
  {
   "cell_type": "code",
   "execution_count": 7,
   "id": "19c2274b",
   "metadata": {},
   "outputs": [],
   "source": [
    "df = spark.read \\\n",
    "    .option(\"header\", \"true\") \\\n",
    "    .schema(fhvhv_schema) \\\n",
    "    .csv('fhvhv_tripdata_2021-02.csv')\n"
   ]
  },
  {
   "cell_type": "code",
   "execution_count": 8,
   "id": "37dda26d",
   "metadata": {},
   "outputs": [
    {
     "name": "stdout",
     "output_type": "stream",
     "text": [
      "+-----------------+--------------------+-------------------+-------------------+------------+------------+-------+\n",
      "|hvfhs_license_num|dispatching_base_num|    pickup_datetime|   dropoff_datetime|PULocationID|DOLocationID|SR_Flag|\n",
      "+-----------------+--------------------+-------------------+-------------------+------------+------------+-------+\n",
      "|           HV0003|              B02764|2021-02-01 00:10:40|2021-02-01 00:21:09|          35|          39|   null|\n",
      "|           HV0003|              B02764|2021-02-01 00:27:23|2021-02-01 00:44:01|          39|          35|   null|\n",
      "|           HV0005|              B02510|2021-02-01 00:28:38|2021-02-01 00:38:27|          39|          91|   null|\n",
      "|           HV0005|              B02510|2021-02-01 00:43:37|2021-02-01 01:23:20|          91|         228|   null|\n",
      "|           HV0003|              B02872|2021-02-01 00:08:42|2021-02-01 00:17:57|         126|         250|   null|\n",
      "|           HV0003|              B02872|2021-02-01 00:26:02|2021-02-01 00:42:51|         208|         243|   null|\n",
      "|           HV0003|              B02872|2021-02-01 00:45:50|2021-02-01 01:02:50|         243|         220|   null|\n",
      "|           HV0003|              B02764|2021-02-01 00:06:42|2021-02-01 00:31:50|          49|          37|   null|\n",
      "|           HV0003|              B02764|2021-02-01 00:34:34|2021-02-01 00:58:13|          37|          76|   null|\n",
      "|           HV0005|              B02510|2021-02-01 00:03:43|2021-02-01 00:39:37|          80|         241|   null|\n",
      "|           HV0005|              B02510|2021-02-01 00:55:36|2021-02-01 01:08:39|         174|          51|   null|\n",
      "|           HV0005|              B02510|2021-02-01 00:06:13|2021-02-01 00:33:45|         235|         129|   null|\n",
      "|           HV0005|              B02510|2021-02-01 00:42:24|2021-02-01 01:11:31|         129|         169|   null|\n",
      "|           HV0003|              B02764|2021-02-01 00:07:05|2021-02-01 00:20:53|         226|          82|   null|\n",
      "|           HV0003|              B02764|2021-02-01 00:28:56|2021-02-01 00:33:59|          82|         129|   null|\n",
      "|           HV0003|              B02764|2021-02-01 00:44:53|2021-02-01 01:07:54|           7|          79|   null|\n",
      "|           HV0003|              B02888|2021-02-01 00:17:55|2021-02-01 00:34:41|           4|         170|   null|\n",
      "|           HV0003|              B02888|2021-02-01 00:38:14|2021-02-01 00:59:20|         164|          42|   null|\n",
      "|           HV0004|              B02800|2021-02-01 00:08:04|2021-02-01 00:24:41|         237|           4|   null|\n",
      "|           HV0004|              B02800|2021-02-01 00:30:44|2021-02-01 00:41:26|         107|          45|   null|\n",
      "+-----------------+--------------------+-------------------+-------------------+------------+------------+-------+\n",
      "only showing top 20 rows\n",
      "\n"
     ]
    }
   ],
   "source": [
    "df.show()"
   ]
  },
  {
   "cell_type": "code",
   "execution_count": null,
   "id": "8d11bdaf",
   "metadata": {},
   "outputs": [],
   "source": [
    "df.repartition(24).\\\n",
    "    write.parquet('data/pq/fhvhv/2021/02/')\n"
   ]
  },
  {
   "cell_type": "code",
   "execution_count": 15,
   "id": "fea6e37a",
   "metadata": {},
   "outputs": [
    {
     "name": "stdout",
     "output_type": "stream",
     "text": [
      "total 208M\r\n"
     ]
    }
   ],
   "source": [
    "#Question 2\n",
    "!ls -lh data/pq/fhvhv/2021/02/ | grep total"
   ]
  },
  {
   "cell_type": "markdown",
   "id": "659737c2",
   "metadata": {},
   "source": [
    "### Reading/Working with the parquet file"
   ]
  },
  {
   "cell_type": "code",
   "execution_count": 16,
   "id": "277d3c4d",
   "metadata": {},
   "outputs": [],
   "source": [
    "df_fhvhv = spark.read.parquet('data/pq/fhvhv/2021/02/')"
   ]
  },
  {
   "cell_type": "code",
   "execution_count": 17,
   "id": "dd99978b",
   "metadata": {},
   "outputs": [
    {
     "name": "stdout",
     "output_type": "stream",
     "text": [
      "+-----------------+--------------------+-------------------+-------------------+------------+------------+-------+\n",
      "|hvfhs_license_num|dispatching_base_num|    pickup_datetime|   dropoff_datetime|PULocationID|DOLocationID|SR_Flag|\n",
      "+-----------------+--------------------+-------------------+-------------------+------------+------------+-------+\n",
      "|           HV0003|              B02887|2021-02-06 01:18:35|2021-02-06 01:40:34|         163|         235|   null|\n",
      "|           HV0005|              B02510|2021-02-05 07:13:06|2021-02-05 07:31:56|         225|         181|   null|\n",
      "|           HV0003|              B02869|2021-02-04 16:56:52|2021-02-04 17:21:36|         260|          95|   null|\n",
      "|           HV0003|              B02871|2021-02-03 18:34:17|2021-02-03 18:57:12|         235|          60|   null|\n",
      "|           HV0003|              B02869|2021-02-04 07:25:09|2021-02-04 07:30:34|          55|          55|   null|\n",
      "|           HV0003|              B02836|2021-02-04 23:15:27|2021-02-04 23:34:29|          74|          81|   null|\n",
      "|           HV0003|              B02882|2021-02-05 07:45:49|2021-02-05 08:05:03|         239|         231|   null|\n",
      "|           HV0003|              B02887|2021-02-03 17:33:59|2021-02-03 17:47:14|          95|         196|   null|\n",
      "|           HV0003|              B02877|2021-02-03 09:33:06|2021-02-03 09:45:59|         241|         265|   null|\n",
      "|           HV0003|              B02872|2021-02-02 12:58:46|2021-02-02 13:06:20|          90|         137|   null|\n",
      "|           HV0003|              B02764|2021-02-05 22:25:20|2021-02-05 22:28:27|           7|           7|   null|\n",
      "|           HV0003|              B02882|2021-02-04 19:57:44|2021-02-04 20:05:24|         231|         246|   null|\n",
      "|           HV0003|              B02764|2021-02-02 08:43:57|2021-02-02 08:53:46|         108|          29|   null|\n",
      "|           HV0003|              B02866|2021-02-04 05:51:50|2021-02-04 06:21:25|          11|         112|   null|\n",
      "|           HV0003|              B02882|2021-02-05 16:13:02|2021-02-05 16:27:48|         229|         234|   null|\n",
      "|           HV0005|              B02510|2021-02-04 17:15:28|2021-02-04 17:24:46|          10|         218|   null|\n",
      "|           HV0003|              B02617|2021-02-04 09:59:58|2021-02-04 10:29:13|          49|         232|   null|\n",
      "|           HV0005|              B02510|2021-02-05 23:34:27|2021-02-05 23:51:05|         125|          17|   null|\n",
      "|           HV0003|              B02875|2021-02-05 20:52:58|2021-02-05 21:19:59|          47|          68|   null|\n",
      "|           HV0003|              B02875|2021-02-04 18:11:00|2021-02-04 18:37:24|          41|         223|   null|\n",
      "+-----------------+--------------------+-------------------+-------------------+------------+------------+-------+\n",
      "only showing top 20 rows\n",
      "\n"
     ]
    },
    {
     "name": "stderr",
     "output_type": "stream",
     "text": [
      "\r",
      "[Stage 3:>                                                          (0 + 1) / 1]\r",
      "\r",
      "                                                                                \r"
     ]
    }
   ],
   "source": [
    "df_fhvhv.show()"
   ]
  },
  {
   "cell_type": "code",
   "execution_count": 18,
   "id": "dc1234eb",
   "metadata": {},
   "outputs": [
    {
     "name": "stdout",
     "output_type": "stream",
     "text": [
      "root\n",
      " |-- hvfhs_license_num: string (nullable = true)\n",
      " |-- dispatching_base_num: string (nullable = true)\n",
      " |-- pickup_datetime: timestamp (nullable = true)\n",
      " |-- dropoff_datetime: timestamp (nullable = true)\n",
      " |-- PULocationID: integer (nullable = true)\n",
      " |-- DOLocationID: integer (nullable = true)\n",
      " |-- SR_Flag: string (nullable = true)\n",
      "\n"
     ]
    }
   ],
   "source": [
    "df_fhvhv.printSchema()"
   ]
  },
  {
   "cell_type": "code",
   "execution_count": 19,
   "id": "4cd4925f",
   "metadata": {},
   "outputs": [],
   "source": [
    "#df_fhvhv.registerTempTable('fhvhv_trips')\n",
    "df_fhvhv.withColumn(\"Trip_Duration_in_Seconds\", col(\"dropoff_datetime\").cast(\"long\") - \n",
    "        col(\"pickup_datetime\").cast(\"long\")).registerTempTable('fhvhv_trips')"
   ]
  },
  {
   "cell_type": "code",
   "execution_count": 20,
   "id": "2bd6bae9",
   "metadata": {},
   "outputs": [
    {
     "name": "stderr",
     "output_type": "stream",
     "text": [
      "\r",
      "[Stage 4:>                                                          (0 + 4) / 4]\r"
     ]
    },
    {
     "name": "stdout",
     "output_type": "stream",
     "text": [
      "+--------+\n",
      "|count(1)|\n",
      "+--------+\n",
      "|  367170|\n",
      "+--------+\n",
      "\n"
     ]
    },
    {
     "name": "stderr",
     "output_type": "stream",
     "text": [
      "\r",
      "[Stage 4:============================================>              (3 + 1) / 4]\r",
      "\r",
      "                                                                                \r"
     ]
    }
   ],
   "source": [
    "#Question 3\n",
    "spark.sql(\"\"\"\n",
    "SELECT COUNT (*) FROM fhvhv_trips\n",
    "WHERE date_format(pickup_datetime, 'dd')=15;\n",
    "\n",
    "\"\"\").show()"
   ]
  },
  {
   "cell_type": "code",
   "execution_count": 21,
   "id": "79210b88",
   "metadata": {},
   "outputs": [
    {
     "name": "stderr",
     "output_type": "stream",
     "text": [
      "\r",
      "[Stage 6:>                                                          (0 + 4) / 4]\r"
     ]
    },
    {
     "name": "stdout",
     "output_type": "stream",
     "text": [
      "+-----------------------------+\n",
      "|max(Trip_Duration_in_Seconds)|\n",
      "+-----------------------------+\n",
      "|                        75540|\n",
      "+-----------------------------+\n",
      "\n"
     ]
    },
    {
     "name": "stderr",
     "output_type": "stream",
     "text": [
      "\r",
      "                                                                                \r"
     ]
    }
   ],
   "source": [
    "spark.sql(\"\"\"\n",
    "    SELECT MAX(Trip_Duration_in_Seconds) FROM fhvhv_trips; \"\"\").show()"
   ]
  },
  {
   "cell_type": "code",
   "execution_count": 22,
   "id": "eff20458",
   "metadata": {},
   "outputs": [
    {
     "name": "stderr",
     "output_type": "stream",
     "text": [
      "[Stage 11:>                                                         (0 + 3) / 3]\r"
     ]
    },
    {
     "name": "stdout",
     "output_type": "stream",
     "text": [
      "+--------------------------------+\n",
      "|date_format(pickup_datetime, dd)|\n",
      "+--------------------------------+\n",
      "|                              11|\n",
      "+--------------------------------+\n",
      "\n"
     ]
    },
    {
     "name": "stderr",
     "output_type": "stream",
     "text": [
      "\r",
      "[Stage 11:===================>                                      (1 + 2) / 3]\r",
      "\r",
      "                                                                                \r"
     ]
    }
   ],
   "source": [
    "#Question 4\n",
    "spark.sql(\"\"\"\n",
    "\n",
    "SELECT \n",
    "    date_format(pickup_datetime, 'dd')\n",
    "FROM \n",
    "    fhvhv_trips\n",
    "WHERE\n",
    "    Trip_Duration_in_Seconds = (SELECT MAX(Trip_Duration_in_Seconds) FROM fhvhv_trips);\n",
    "\n",
    "\"\"\").show()"
   ]
  },
  {
   "cell_type": "code",
   "execution_count": 26,
   "id": "81385afc",
   "metadata": {},
   "outputs": [
    {
     "name": "stderr",
     "output_type": "stream",
     "text": [
      "[Stage 22:=============================================>        (167 + 4) / 200]\r"
     ]
    },
    {
     "name": "stdout",
     "output_type": "stream",
     "text": [
      "+--------------------+--------+\n",
      "|dispatching_base_num|count(1)|\n",
      "+--------------------+--------+\n",
      "|              B02510| 3233664|\n",
      "+--------------------+--------+\n",
      "\n"
     ]
    },
    {
     "name": "stderr",
     "output_type": "stream",
     "text": [
      "\r",
      "                                                                                \r"
     ]
    }
   ],
   "source": [
    "#Question 5\n",
    "spark.sql(\"\"\"\n",
    "   \n",
    "SELECT \n",
    "    dispatching_base_num, COUNT(*)\n",
    "FROM \n",
    "    fhvhv_trips\n",
    "GROUP BY\n",
    "    dispatching_base_num\n",
    "ORDER BY\n",
    "    count(1)\n",
    "DESC\n",
    "LIMIT \n",
    "    1;\n",
    "\n",
    "\"\"\").show()"
   ]
  },
  {
   "cell_type": "code",
   "execution_count": 24,
   "id": "bd2fdbb2",
   "metadata": {},
   "outputs": [
    {
     "name": "stdout",
     "output_type": "stream",
     "text": [
      "+----------+-------------+--------------------+------------+\n",
      "|LocationID|      Borough|                Zone|service_zone|\n",
      "+----------+-------------+--------------------+------------+\n",
      "|         1|          EWR|      Newark Airport|         EWR|\n",
      "|         2|       Queens|         Jamaica Bay|   Boro Zone|\n",
      "|         3|        Bronx|Allerton/Pelham G...|   Boro Zone|\n",
      "|         4|    Manhattan|       Alphabet City| Yellow Zone|\n",
      "|         5|Staten Island|       Arden Heights|   Boro Zone|\n",
      "|         6|Staten Island|Arrochar/Fort Wad...|   Boro Zone|\n",
      "|         7|       Queens|             Astoria|   Boro Zone|\n",
      "|         8|       Queens|        Astoria Park|   Boro Zone|\n",
      "|         9|       Queens|          Auburndale|   Boro Zone|\n",
      "|        10|       Queens|        Baisley Park|   Boro Zone|\n",
      "|        11|     Brooklyn|          Bath Beach|   Boro Zone|\n",
      "|        12|    Manhattan|        Battery Park| Yellow Zone|\n",
      "|        13|    Manhattan|   Battery Park City| Yellow Zone|\n",
      "|        14|     Brooklyn|           Bay Ridge|   Boro Zone|\n",
      "|        15|       Queens|Bay Terrace/Fort ...|   Boro Zone|\n",
      "|        16|       Queens|             Bayside|   Boro Zone|\n",
      "|        17|     Brooklyn|             Bedford|   Boro Zone|\n",
      "|        18|        Bronx|        Bedford Park|   Boro Zone|\n",
      "|        19|       Queens|           Bellerose|   Boro Zone|\n",
      "|        20|        Bronx|             Belmont|   Boro Zone|\n",
      "+----------+-------------+--------------------+------------+\n",
      "only showing top 20 rows\n",
      "\n"
     ]
    }
   ],
   "source": [
    "df_zones = spark.read.option(\"header\", \"true\").csv('taxi+_zone_lookup.csv')\n",
    "df_zones.show()\n",
    "df_zones.registerTempTable('trip_zones')"
   ]
  },
  {
   "cell_type": "code",
   "execution_count": 25,
   "id": "f1cb45ed",
   "metadata": {},
   "outputs": [
    {
     "name": "stderr",
     "output_type": "stream",
     "text": [
      "[Stage 19:=================================================>    (183 + 4) / 200]\r"
     ]
    },
    {
     "name": "stdout",
     "output_type": "stream",
     "text": [
      "+--------------------+--------------------+-----------+\n",
      "|             PU_zone|             DO_zone|trips_total|\n",
      "+--------------------+--------------------+-----------+\n",
      "|       East New York|       East New York|      45041|\n",
      "|        Borough Park|        Borough Park|      37329|\n",
      "|            Canarsie|            Canarsie|      28026|\n",
      "| Crown Heights North| Crown Heights North|      25976|\n",
      "|           Bay Ridge|           Bay Ridge|      17934|\n",
      "|     Jackson Heights|     Jackson Heights|      14688|\n",
      "|             Astoria|             Astoria|      14688|\n",
      "|Central Harlem North|Central Harlem North|      14481|\n",
      "|      Bushwick South|      Bushwick South|      14424|\n",
      "|Flatbush/Ditmas Park|Flatbush/Ditmas Park|      13976|\n",
      "+--------------------+--------------------+-----------+\n",
      "\n"
     ]
    },
    {
     "name": "stderr",
     "output_type": "stream",
     "text": [
      "\r",
      "                                                                                \r"
     ]
    }
   ],
   "source": [
    "#Question 6\n",
    "spark.sql(\"\"\"\n",
    "   \n",
    "SELECT \n",
    "   b.zone as PU_zone, c.zone as DO_zone, COUNT(*) trips_total\n",
    "FROM \n",
    "    fhvhv_trips AS a\n",
    "    \n",
    "INNER JOIN\n",
    "    trip_zones AS b\n",
    "ON\n",
    "    a.PULocationID = b.LocationID\n",
    "INNER JOIN\n",
    "    trip_zones AS c\n",
    "ON\n",
    "    a.DOLocationID = c.LocationID\n",
    "\n",
    "GROUP BY \n",
    "    PU_zone, DO_zone\n",
    "ORDER BY\n",
    "    COUNT(1)\n",
    "DESC\n",
    "LIMIT \n",
    "    10;\n",
    "\n",
    "\"\"\").show()"
   ]
  },
  {
   "cell_type": "code",
   "execution_count": null,
   "id": "e1e8ebc9",
   "metadata": {},
   "outputs": [],
   "source": []
  },
  {
   "cell_type": "code",
   "execution_count": null,
   "id": "298392d7",
   "metadata": {},
   "outputs": [],
   "source": []
  },
  {
   "cell_type": "code",
   "execution_count": null,
   "id": "62c57607",
   "metadata": {},
   "outputs": [],
   "source": []
  }
 ],
 "metadata": {
  "kernelspec": {
   "display_name": "Python 3 (ipykernel)",
   "language": "python",
   "name": "python3"
  },
  "language_info": {
   "codemirror_mode": {
    "name": "ipython",
    "version": 3
   },
   "file_extension": ".py",
   "mimetype": "text/x-python",
   "name": "python",
   "nbconvert_exporter": "python",
   "pygments_lexer": "ipython3",
   "version": "3.8.10"
  }
 },
 "nbformat": 4,
 "nbformat_minor": 5
}
